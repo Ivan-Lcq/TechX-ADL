{
 "cells": [
  {
   "cell_type": "code",
   "execution_count": 87,
   "metadata": {},
   "outputs": [],
   "source": [
    "import numpy as np\n",
    "import matplotlib.pyplot as plt\n",
    "import h5py\n",
    "import math\n",
    "from scipy.interpolate import make_interp_spline, BSpline, UnivariateSpline\n",
    "\n",
    "%matplotlib inline"
   ]
  },
  {
   "cell_type": "code",
   "execution_count": 8,
   "metadata": {},
   "outputs": [],
   "source": [
    "def load_dataset():\n",
    "    train_dataset = h5py.File('address of train_catvnoncat.h5', \"r\")\n",
    "    train_set_x_orig = np.array(train_dataset[\"train_set_x\"][:]) # your train set features\n",
    "    train_set_y_orig = np.array(train_dataset[\"train_set_y\"][:]) # your train set labels\n",
    "\n",
    "    test_dataset = h5py.File('test_catvnoncat.h5', \"r\")\n",
    "    test_set_x_orig = np.array(test_dataset[\"test_set_x\"][:]) # your test set features\n",
    "    test_set_y_orig = np.array(test_dataset[\"test_set_y\"][:]) # your test set labels\n",
    "\n",
    "    classes = np.array(test_dataset[\"list_classes\"][:]) # the list of classes\n",
    "    \n",
    "    train_set_y_orig = train_set_y_orig.reshape((1, train_set_y_orig.shape[0]))\n",
    "    test_set_y_orig = test_set_y_orig.reshape((1, test_set_y_orig.shape[0]))\n",
    "    \n",
    "    return train_set_x_orig, train_set_y_orig, test_set_x_orig, test_set_y_orig, classes"
   ]
  },
  {
   "cell_type": "code",
   "execution_count": 9,
   "metadata": {},
   "outputs": [],
   "source": [
    "# load the dataset\n",
    "train_set_x_orig, train_set_y, test_set_x_orig, test_set_y, classes = load_dataset()"
   ]
  },
  {
   "cell_type": "code",
   "execution_count": 10,
   "metadata": {},
   "outputs": [
    {
     "name": "stdout",
     "output_type": "stream",
     "text": [
      "y = [0], it's a 'non-cat' picture.\n",
      "(50, 64, 64, 3)\n"
     ]
    },
    {
     "data": {
      "image/png": "[encoded data removed]",
      "text/plain": [
       "<Figure size 432x288 with 1 Axes>"
      ]
     },
     "metadata": {
      "needs_background": "light"
     },
     "output_type": "display_data"
    }
   ],
   "source": [
    "# one example\n",
    "plt.imshow(train_set_x_orig[30])\n",
    "print (\"y = \" + str(train_set_y[:, 30]) + \", it's a '\" \n",
    "       + classes[np.squeeze(train_set_y[:, 30])].decode(\"utf-8\") +  \"' picture.\")\n",
    "print(test_set_x_orig.shape)"
   ]
  },
  {
   "cell_type": "code",
   "execution_count": 11,
   "metadata": {},
   "outputs": [
    {
     "name": "stdout",
     "output_type": "stream",
     "text": [
      "[(209, 64, 64, 3), (1, 209)]\n",
      "[(50, 64, 64, 3), (1, 50)]\n"
     ]
    }
   ],
   "source": [
    "print([train_set_x_orig.shape,train_set_y.shape])\n",
    "print([test_set_x_orig.shape,test_set_y.shape])"
   ]
  },
  {
   "cell_type": "code",
   "execution_count": 12,
   "metadata": {},
   "outputs": [
    {
     "name": "stdout",
     "output_type": "stream",
     "text": [
      "Number of training examples: m_train = 209\n",
      "Number of testing examples: m_test = 50\n",
      "Height/Width of each image: num_px = 64\n",
      "Each image is of size: (64, 64, 3)\n",
      "train_set_x shape: (209, 64, 64, 3)\n",
      "train_set_y shape: (1, 209)\n",
      "test_set_x shape: (50, 64, 64, 3)\n",
      "test_set_y shape: (1, 50)\n"
     ]
    }
   ],
   "source": [
    "m_train = train_set_x_orig.shape[0]\n",
    "m_test = test_set_x_orig.shape[0]\n",
    "num_px = test_set_x_orig.shape[1]\n",
    "\n",
    "\n",
    "print (\"Number of training examples: m_train = \" + str(m_train))\n",
    "print (\"Number of testing examples: m_test = \" + str(m_test))\n",
    "print (\"Height/Width of each image: num_px = \" + str(num_px))\n",
    "print (\"Each image is of size: (\" + str(num_px) + \", \" + str(num_px) + \", 3)\")\n",
    "print (\"train_set_x shape: \" + str(train_set_x_orig.shape))\n",
    "print (\"train_set_y shape: \" + str(train_set_y.shape))\n",
    "print (\"test_set_x shape: \" + str(test_set_x_orig.shape))\n",
    "print (\"test_set_y shape: \" + str(test_set_y.shape))"
   ]
  },
  {
   "cell_type": "code",
   "execution_count": 13,
   "metadata": {},
   "outputs": [
    {
     "name": "stdout",
     "output_type": "stream",
     "text": [
      "train_set_x_flatten shape: (12288, 209)\n",
      "train_set_y shape: (1, 209)\n",
      "test_set_x_flatten shape: (12288, 50)\n",
      "test_set_y shape: (1, 50)\n",
      "sanity check after reshaping: [17 31 56 22 33]\n"
     ]
    }
   ],
   "source": [
    "# flatten the training and test examples\n",
    "\n",
    "train_set_x_flatten = train_set_x_orig.reshape(train_set_x_orig.shape[0],-1).T\n",
    "test_set_x_flatten = test_set_x_orig.reshape(test_set_x_orig.shape[0],-1).T\n",
    "\n",
    "\n",
    "train_set_x = train_set_x_flatten/255.\n",
    "test_set_x = test_set_x_flatten/255.\n",
    "print (\"train_set_x_flatten shape: \" + str(train_set_x_flatten.shape))\n",
    "print (\"train_set_y shape: \" + str(train_set_y.shape))\n",
    "print (\"test_set_x_flatten shape: \" + str(test_set_x_flatten.shape))\n",
    "print (\"test_set_y shape: \" + str(test_set_y.shape))\n",
    "print (\"sanity check after reshaping: \" + str(train_set_x_flatten[0:5,0]))"
   ]
  },
  {
   "cell_type": "markdown",
   "metadata": {},
   "source": [
    "## Start##"
   ]
  },
  {
   "cell_type": "code",
   "execution_count": 14,
   "metadata": {},
   "outputs": [],
   "source": [
    "# use numpy\n",
    "def sigmoid(z):\n",
    "    z = 1 / (1 + np.exp(-z))\n",
    "    return z"
   ]
  },
  {
   "cell_type": "code",
   "execution_count": 15,
   "metadata": {},
   "outputs": [],
   "source": [
    "def initialize_zeros(dim):\n",
    "    ###########################  \n",
    "    weight = np.zeros((dim, 1))\n",
    "    bias = 0\n",
    "    ###########################  \n",
    "\n",
    "\n",
    "    assert(weight.shape == (dim, 1))\n",
    "    assert(isinstance(bias, float) or isinstance(bias, int))\n",
    "    \n",
    "    return weight, bias"
   ]
  },
  {
   "cell_type": "code",
   "execution_count": 16,
   "metadata": {},
   "outputs": [],
   "source": [
    "def initialize_big(dim):\n",
    "    ###########################  \n",
    "    weight = np.random.random((dim, 1)) * 10\n",
    "    bias = np.random.random(1)[0] * 10\n",
    "    ###########################  \n",
    "\n",
    "\n",
    "    assert(weight.shape == (dim, 1))\n",
    "    assert(isinstance(bias, float) or isinstance(bias, int))\n",
    "    \n",
    "    return weight, bias"
   ]
  },
  {
   "cell_type": "code",
   "execution_count": 23,
   "metadata": {},
   "outputs": [],
   "source": [
    "def initialize_small(dim):\n",
    "    ###########################  \n",
    "    weight = np.random.random((dim, 1)) * 0.0001\n",
    "    bias = np.random.random(1)[0] * 0.0001\n",
    "    ###########################  \n",
    "\n",
    "\n",
    "    assert(weight.shape == (dim, 1))\n",
    "    assert(isinstance(bias, float) or isinstance(bias, int))\n",
    "    \n",
    "    return weight, bias"
   ]
  },
  {
   "cell_type": "code",
   "execution_count": 18,
   "metadata": {},
   "outputs": [],
   "source": [
    "def propagate(weight, bias, train_set, label):\n",
    "    \n",
    "    m = train_set.shape[1]\n",
    "    X = train_set #(dim, batch_size)\n",
    "    label = label.T #(batch_size, 1)\n",
    "    \n",
    "    ###########################  \n",
    "    # compute activation\n",
    "    activation = sigmoid(np.dot(X.T, weight) + bias) # (batch_size, 1)\n",
    "    \n",
    "    # compute cost\n",
    "    cost = np.sum(- label * np.log(activation) - (1-label) * np.log(1-activation))              \n",
    "\n",
    "    \n",
    "    # backprop\n",
    "    dw = 1/m * np.dot(X, (activation - label)) #(dim, 1)\n",
    "    db = 1/m * np.sum(activation - label) #scalar \n",
    "    \n",
    "    ###########################  \n",
    "    assert(dw.shape == weight.shape)\n",
    "    assert(db.dtype == float)\n",
    "    cost = np.squeeze(cost)\n",
    "#     print (cost.shape)\n",
    "    assert(cost.shape == ())\n",
    "    \n",
    "    grads = {\"dw\": dw,\n",
    "             \"db\": db}\n",
    "    \n",
    "    return grads, cost"
   ]
  },
  {
   "cell_type": "code",
   "execution_count": 19,
   "metadata": {},
   "outputs": [],
   "source": [
    "def optimize(weight, bias, train_set, label, num_iterations, lr):\n",
    "    costs = []\n",
    "    \n",
    "    for i in range(num_iterations):\n",
    "        \n",
    "    ###########################    \n",
    "        # get the grads and cost with propagate()\n",
    "        grads, cost = propagate(weight, bias, train_set, label)\n",
    "        \n",
    "        # Retrieve derivatives from grads\n",
    "        dw = grads[\"dw\"]\n",
    "        db = grads[\"db\"]\n",
    "        \n",
    "        # update parameters\n",
    "        weight = weight - lr * dw\n",
    "        bias = bias - lr*db\n",
    "\n",
    "        \n",
    "    ###########################\n",
    "    \n",
    "        if i % 100 == 0:\n",
    "            costs.append(cost)\n",
    "            print (\"Cost after iteration %i: %f\" %(i, cost))\n",
    "            \n",
    "    \n",
    "    params = {\"weight\": weight,\n",
    "              \"bias\": bias}\n",
    "    \n",
    "    grads = {\"dw\": dw,\n",
    "             \"db\": db}\n",
    "    \n",
    "    return params, grads, costs"
   ]
  },
  {
   "cell_type": "code",
   "execution_count": 40,
   "metadata": {},
   "outputs": [],
   "source": [
    "def predict(weight, bias, data):\n",
    "    m = data.shape[1] #data:(dim, bsz)\n",
    "    label = np.zeros((1,m))\n",
    "    weight = weight.reshape(data.shape[0], 1) #(dim, 1)\n",
    "    \n",
    "    ###########################\n",
    "    activation = sigmoid(np.dot(data.T, weight) + bias) #(bsz, 1)\n",
    "\n",
    "    \n",
    "    for i in range(activation.shape[0]):\n",
    "        \n",
    "        # Convert probabilities of activation to actual predictions [0 or 1]\n",
    "        if activation[i][0] > 0.5:\n",
    "            label[0][i] = 1\n",
    "        else:\n",
    "            label[0][i] = 0\n",
    "    \n",
    "\n",
    "    ###########################\n",
    "    \n",
    "    assert(label.shape == (1, m))\n",
    "    \n",
    "    return label"
   ]
  },
  {
   "cell_type": "markdown",
   "metadata": {},
   "source": [
    "## Combine everything ##"
   ]
  },
  {
   "cell_type": "code",
   "execution_count": 29,
   "metadata": {},
   "outputs": [],
   "source": [
    "def model(X_train, Y_train, X_test, Y_test, num_iterations = 2000, learning_rate = 0.5, print_cost = False, early_stop=False, init=\"zeros\"):\n",
    "    \n",
    "    \n",
    "    ###########################\n",
    "    \n",
    "    # initialize parameters \n",
    "    if init.lower() == \"zeros\":\n",
    "        weight, bias = initialize_zeros(X_train.shape[0])\n",
    "    elif init.lower() == \"big\":\n",
    "        weight, bias = initialize_big(X_train.shape[0])\n",
    "    else:\n",
    "        weight, bias = initialize_small(X_train.shape[0])\n",
    "    \n",
    "    prev_dev = 0.0\n",
    "    ## a modified version of early stopping\n",
    "    highest_dev = 0.0\n",
    "    for i in range(num_iterations//100):\n",
    "        # Gradient descent \n",
    "        parameters, grads, costs = optimize(weight, bias, X_train, Y_train, 100, learning_rate)\n",
    "\n",
    "        # Retrieve parameters weight and bias \n",
    "        weight = parameters[\"weight\"]\n",
    "        bias = parameters[\"bias\"]\n",
    "\n",
    "        # Predict test/train set examples \n",
    "        Y_prediction_test = predict(weight, bias, X_test)\n",
    "        Y_prediction_train = predict(weight, bias, X_train)\n",
    "\n",
    "        ###########################\n",
    "\n",
    "\n",
    "\n",
    "        # Print train/test Errors\n",
    "        train_acc = 100 - np.mean(np.abs(Y_prediction_train - Y_train)) * 100\n",
    "        if print_cost:\n",
    "            print(\"train accuracy: {} %\".format(train_acc))\n",
    "        dev_acc = 100 - np.mean(np.abs(Y_prediction_test - Y_test)) * 100\n",
    "        if print_cost:\n",
    "            print(\"test accuracy: {} %\".format(dev_acc))\n",
    "        \n",
    "        if early_stop and dev_acc < prev_dev:\n",
    "              print (\"Early Stop at iteration {}/{}\".format((i+1)*100, num_iterations))\n",
    "              break\n",
    "        else:\n",
    "            prev_dev = dev_acc\n",
    "        highest_dev = max(highest_dev, dev_acc)\n",
    "\n",
    "\n",
    "    d = {\"costs\": costs,\n",
    "         \"Y_prediction_test\": Y_prediction_test, \n",
    "         \"Y_prediction_train\" : Y_prediction_train, \n",
    "         \"w\" : weight, \n",
    "         \"b\" : bias,\n",
    "         \"learning_rate\" : learning_rate,\n",
    "         \"num_iterations\": num_iterations}\n",
    "    print (\"Highest Test Acc: \", highest_dev)\n",
    "    print (\"Final Test Acc: \", dev_acc)\n",
    "    return d"
   ]
  },
  {
   "cell_type": "code",
   "execution_count": 25,
   "metadata": {},
   "outputs": [
    {
     "name": "stdout",
     "output_type": "stream",
     "text": [
      "Cost after iteration 0: 144.867761\n",
      "Cost after iteration 0: 122.162248\n",
      "Cost after iteration 0: 97.592350\n",
      "Cost after iteration 0: 78.585435\n",
      "Cost after iteration 0: 69.275827\n",
      "Cost after iteration 0: 63.384071\n",
      "Cost after iteration 0: 58.494834\n",
      "Cost after iteration 0: 54.348807\n",
      "Cost after iteration 0: 50.774603\n",
      "Cost after iteration 0: 47.652883\n",
      "Highest Test Acc:  84.0\n",
      "Final Test Acc:  72.0\n"
     ]
    }
   ],
   "source": [
    "## Compare different methods' results\n",
    "## 1: Vanilla logistic regression, 1k iterations\n",
    "d = model(train_set_x, train_set_y, test_set_x, test_set_y, num_iterations = 1000, learning_rate = 0.005, print_cost = False, init=\"zeros\")\n",
    "\n"
   ]
  },
  {
   "cell_type": "markdown",
   "metadata": {},
   "source": [
    "The final test acc is much lower than the highest test acc, so it's likely to be overfitting."
   ]
  },
  {
   "cell_type": "code",
   "execution_count": 26,
   "metadata": {
    "scrolled": true
   },
   "outputs": [
    {
     "name": "stdout",
     "output_type": "stream",
     "text": [
      "Cost after iteration 0: 144.867761\n",
      "Cost after iteration 0: 122.162248\n",
      "Early Stop at iteration 200/1000\n",
      "Highest Test Acc:  84.0\n",
      "Final Test Acc:  80.0\n"
     ]
    }
   ],
   "source": [
    "# test your code\n",
    "d = model(train_set_x, train_set_y, test_set_x, test_set_y, num_iterations = 1000, learning_rate = 0.005, print_cost = False, early_stop = True, init=\"zeros\")\n"
   ]
  },
  {
   "cell_type": "markdown",
   "metadata": {},
   "source": [
    "By using early stopping, the model stopped at iteration 200/1000 after the test acc starts to drop. This saves us some time. Also, the Final Test Acc is closer to the highest test acc.\n"
   ]
  },
  {
   "cell_type": "markdown",
   "metadata": {},
   "source": [
    "Next, let's compare the effects of different initialization methods."
   ]
  },
  {
   "cell_type": "code",
   "execution_count": 30,
   "metadata": {},
   "outputs": [
    {
     "name": "stdout",
     "output_type": "stream",
     "text": [
      "zero initialization \n",
      "\n",
      "Cost after iteration 0: 144.867761\n",
      "Cost after iteration 0: 122.162248\n",
      "Early Stop at iteration 200/1000\n",
      "Highest Test Acc:  84.0\n",
      "Final Test Acc:  80.0\n",
      "\n",
      "\n",
      " big intialization \n",
      "\n",
      "Cost after iteration 0: nan\n"
     ]
    },
    {
     "name": "stderr",
     "output_type": "stream",
     "text": [
      "/Users/sichenglei/Desktop/softwares/env/lib/python3.6/site-packages/ipykernel_launcher.py:12: RuntimeWarning: divide by zero encountered in log\n",
      "  if sys.path[0] == '':\n",
      "/Users/sichenglei/Desktop/softwares/env/lib/python3.6/site-packages/ipykernel_launcher.py:12: RuntimeWarning: invalid value encountered in multiply\n",
      "  if sys.path[0] == '':\n"
     ]
    },
    {
     "name": "stdout",
     "output_type": "stream",
     "text": [
      "Cost after iteration 0: nan\n",
      "Cost after iteration 0: nan\n",
      "Cost after iteration 0: nan\n",
      "Cost after iteration 0: nan\n",
      "Cost after iteration 0: nan\n",
      "Cost after iteration 0: nan\n",
      "Cost after iteration 0: nan\n",
      "Cost after iteration 0: nan\n",
      "Cost after iteration 0: nan\n",
      "Highest Test Acc:  66.0\n",
      "Final Test Acc:  66.0\n",
      "\n",
      "\n",
      " small initialization \n",
      "\n",
      "Cost after iteration 0: 154.123091\n",
      "Cost after iteration 0: 122.157190\n",
      "Early Stop at iteration 200/1000\n",
      "Highest Test Acc:  84.0\n",
      "Final Test Acc:  80.0\n"
     ]
    }
   ],
   "source": [
    "# zero initialize \n",
    "print (\"zero initialization \\n\")\n",
    "d = model(train_set_x, train_set_y, test_set_x, test_set_y, num_iterations = 1000, learning_rate = 0.005, print_cost = False, early_stop = True, init=\"zeros\")\n",
    "\n",
    "# big initialization\n",
    "print (\"\\n\\n big intialization \\n\")\n",
    "d = model(train_set_x, train_set_y, test_set_x, test_set_y, num_iterations = 1000, learning_rate = 0.005, print_cost = False, early_stop = True, init=\"big\")\n",
    "\n",
    "# small initialization\n",
    "print (\"\\n\\n small initialization \\n\")\n",
    "d = model(train_set_x, train_set_y, test_set_x, test_set_y, num_iterations = 1000, learning_rate = 0.005, print_cost = False, early_stop = True, init=\"small\")\n",
    "\n"
   ]
  },
  {
   "cell_type": "markdown",
   "metadata": {},
   "source": [
    "We can see that too big initialization causes the loss to become nan. "
   ]
  },
  {
   "cell_type": "markdown",
   "metadata": {},
   "source": [
    "### Bonus: Hyper-parameter tuning\n",
    "\n",
    "Hyper-parameters, such as the learning rate, can be tuned to optimise the performance. Here we try a set of different learning rates and observe the corresponding performance changes."
   ]
  },
  {
   "cell_type": "code",
   "execution_count": 21,
   "metadata": {},
   "outputs": [
    {
     "name": "stdout",
     "output_type": "stream",
     "text": [
      "learning rate is: 0.1\n",
      "Cost after iteration 0: 144.867761\n"
     ]
    },
    {
     "name": "stderr",
     "output_type": "stream",
     "text": [
      "/Users/sichenglei/Desktop/softwares/env/lib/python3.6/site-packages/ipykernel_launcher.py:12: RuntimeWarning: divide by zero encountered in log\n",
      "  if sys.path[0] == '':\n",
      "/Users/sichenglei/Desktop/softwares/env/lib/python3.6/site-packages/ipykernel_launcher.py:12: RuntimeWarning: invalid value encountered in multiply\n",
      "  if sys.path[0] == '':\n"
     ]
    },
    {
     "name": "stdout",
     "output_type": "stream",
     "text": [
      "Cost after iteration 0: 5003.632103\n",
      "Cost after iteration 0: 4422.346986\n",
      "Cost after iteration 0: 4854.407500\n",
      "Cost after iteration 0: 4470.828552\n",
      "Cost after iteration 0: nan\n",
      "Early Stop at iteration 600/1000\n",
      "Highest Test Acc:  74.0\n",
      "Final Test Acc:  70.0\n",
      "\n",
      "-------------------------------------------------------\n",
      "\n",
      "learning rate is: 0.05\n",
      "Cost after iteration 0: 144.867761\n",
      "Cost after iteration 0: 214.281868\n",
      "Early Stop at iteration 200/1000\n",
      "Highest Test Acc:  56.0\n",
      "Final Test Acc:  34.0\n",
      "\n",
      "-------------------------------------------------------\n",
      "\n",
      "learning rate is: 0.005\n",
      "Cost after iteration 0: 144.867761\n",
      "Cost after iteration 0: 122.162248\n",
      "Early Stop at iteration 200/1000\n",
      "Highest Test Acc:  84.0\n",
      "Final Test Acc:  80.0\n",
      "\n",
      "-------------------------------------------------------\n",
      "\n",
      "learning rate is: 0.0005\n",
      "Cost after iteration 0: 144.867761\n",
      "Cost after iteration 0: 128.745442\n",
      "Cost after iteration 0: 123.585220\n",
      "Cost after iteration 0: 119.553544\n",
      "Cost after iteration 0: 116.166059\n",
      "Cost after iteration 0: 113.206953\n",
      "Cost after iteration 0: 110.560144\n",
      "Cost after iteration 0: 108.154342\n",
      "Cost after iteration 0: 105.941826\n",
      "Cost after iteration 0: 103.888774\n",
      "Highest Test Acc:  56.0\n",
      "Final Test Acc:  56.0\n",
      "\n",
      "-------------------------------------------------------\n",
      "\n"
     ]
    }
   ],
   "source": [
    "learning_rates = [0.1, 0.05, 0.005, 0.0005]\n",
    "models = {}\n",
    "for i in learning_rates:\n",
    "    print (\"learning rate is: \" + str(i))\n",
    "    models[str(i)] = model(train_set_x, train_set_y, test_set_x, test_set_y, num_iterations = 1000, learning_rate = i, print_cost = False, early_stop=True)\n",
    "    print ('\\n' + \"-------------------------------------------------------\" + '\\n')\n",
    "\n",
    "# for i in learning_rates:\n",
    "#     plt.plot(np.squeeze(models[str(i)][\"costs\"]), label= str(models[str(i)][\"learning_rate\"]))\n",
    "\n",
    "# plt.ylabel('cost')\n",
    "# plt.xlabel('iterations (hundreds)')\n",
    "\n",
    "# legend = plt.legend(loc='upper center', shadow=True)\n",
    "# frame = legend.get_frame()\n",
    "# frame.set_facecolor('0.90')\n",
    "# plt.show()"
   ]
  },
  {
   "cell_type": "markdown",
   "metadata": {},
   "source": [
    "We can see that using learning rate 0.005 actually gives the best Test Accuracy. "
   ]
  },
  {
   "cell_type": "markdown",
   "metadata": {},
   "source": [
    "## F1 Score, ROC Curve"
   ]
  },
  {
   "cell_type": "code",
   "execution_count": 44,
   "metadata": {},
   "outputs": [],
   "source": [
    "def predict_by_thres(activations, threshold):\n",
    "    # activation: (bsz, 1)   \n",
    "    m = activations.shape[0]\n",
    "    label = np.zeros((1,m))\n",
    "    for i in range(activation.shape[0]):\n",
    "        \n",
    "        # Convert probabilities of activation to actual predictions [0 or 1]\n",
    "        if activation[i][0] >= threshold:\n",
    "            label[0][i] = 1\n",
    "        else:\n",
    "            label[0][i] = 0\n",
    "    \n",
    "\n",
    "    ###########################\n",
    "    \n",
    "    assert(label.shape == (1, m))\n",
    "    \n",
    "    return label"
   ]
  },
  {
   "cell_type": "code",
   "execution_count": 38,
   "metadata": {},
   "outputs": [],
   "source": [
    "def compute_F1(labels, activations, threshold):\n",
    "    preds = predict_by_thres(activations, threshold)\n",
    "    assert labels.shape == preds.shape\n",
    "    ## input shape: (1, bsz)\n",
    "    \n",
    "    true_pos = 0\n",
    "    true_neg = 0\n",
    "    false_pos = 0\n",
    "    false_neg = 0\n",
    "    \n",
    "    for i in range(labels.shape[1]):\n",
    "        if labels[0][i] == 1 and preds[0][i] == 1:\n",
    "            true_pos += 1\n",
    "        elif labels[0][i] == 1 and preds[0][i] == 0:\n",
    "            false_neg += 1\n",
    "        elif labels[0][i] == 0 and preds[0][i] == 1:\n",
    "            false_pos += 1\n",
    "        elif labels[0][i] == 0 and preds[0][i] == 0:\n",
    "            true_neg += 1\n",
    "    \n",
    "    precision = true_pos / (true_pos + false_pos)\n",
    "    recall = true_pos / (true_pos + false_neg)\n",
    "    F1 = 2 * (precision * recall) / (precision + recall)\n",
    "    \n",
    "    print (\"precision: {}, recall: {}, F1: {}\".format(precision, recall, F1))\n",
    "    return [true_pos, true_neg, false_pos, false_neg, precision, recall, F1]\n",
    "    \n",
    "    "
   ]
  },
  {
   "cell_type": "code",
   "execution_count": 42,
   "metadata": {},
   "outputs": [
    {
     "name": "stdout",
     "output_type": "stream",
     "text": [
      "Cost after iteration 0: 144.867761\n",
      "Highest Test Acc:  84.0\n",
      "Final Test Acc:  84.0\n"
     ]
    }
   ],
   "source": [
    "# get model and activations first \n",
    "d = model(train_set_x, train_set_y, test_set_x, test_set_y, num_iterations = 100, learning_rate = 0.005, print_cost = False, early_stop = True, init=\"zeros\")\n",
    "weight = d[\"w\"]\n",
    "bias = d[\"b\"]\n",
    "activation = sigmoid(np.dot(test_set_x.T, weight) + bias) #(bsz, 1)\n"
   ]
  },
  {
   "cell_type": "code",
   "execution_count": 74,
   "metadata": {},
   "outputs": [
    {
     "name": "stdout",
     "output_type": "stream",
     "text": [
      "Current Threshold:  0.1\n",
      "precision: 0.66, recall: 1.0, F1: 0.7951807228915663\n",
      "Current Threshold:  0.2\n",
      "precision: 0.66, recall: 1.0, F1: 0.7951807228915663\n",
      "Current Threshold:  0.30000000000000004\n",
      "precision: 0.6875, recall: 1.0, F1: 0.8148148148148148\n",
      "Current Threshold:  0.4\n",
      "precision: 0.7857142857142857, recall: 1.0, F1: 0.88\n",
      "Current Threshold:  0.5\n",
      "precision: 0.8378378378378378, recall: 0.9393939393939394, F1: 0.8857142857142858\n",
      "Current Threshold:  0.6000000000000001\n",
      "precision: 0.8, recall: 0.7272727272727273, F1: 0.761904761904762\n",
      "Current Threshold:  0.7000000000000001\n",
      "precision: 0.8260869565217391, recall: 0.5757575757575758, F1: 0.6785714285714286\n",
      "Current Threshold:  0.8\n",
      "precision: 0.8, recall: 0.24242424242424243, F1: 0.372093023255814\n",
      "Current Threshold:  0.9\n",
      "precision: 1.0, recall: 0.030303030303030304, F1: 0.05882352941176471\n"
     ]
    }
   ],
   "source": [
    "tp_list = []\n",
    "fp_list = []\n",
    "# try different threshold\n",
    "for i in range(1, 10):\n",
    "    thres = i * 0.1\n",
    "    print (\"Current Threshold: \", thres)\n",
    "    lst = compute_F1(test_set_y, activation, thres)\n",
    "    tp_list.append(lst[-2])\n",
    "    fp_list.append(lst[2]/(lst[2]+lst[1]))"
   ]
  },
  {
   "cell_type": "code",
   "execution_count": 75,
   "metadata": {
    "scrolled": true
   },
   "outputs": [
    {
     "data": {
      "text/plain": [
       "Text(0, 0.5, 'true positive rate')"
      ]
     },
     "execution_count": 75,
     "metadata": {},
     "output_type": "execute_result"
    },
    {
     "data": {
      "image/png": "[encoded data removed]",
      "text/plain": [
       "<Figure size 432x288 with 1 Axes>"
      ]
     },
     "metadata": {
      "needs_background": "light"
     },
     "output_type": "display_data"
    }
   ],
   "source": [
    "## Plot ROC Curve\n",
    "\n",
    "plt.plot(fp_list, tp_list)\n",
    "plt.plot(np.linspace(0, 1, 10), np.linspace(0, 1, 10), ':')\n",
    "plt.xlabel(\"false positive rate\")\n",
    "plt.ylabel(\"true positive rate\")"
   ]
  },
  {
   "cell_type": "code",
   "execution_count": null,
   "metadata": {},
   "outputs": [],
   "source": []
  }
 ],
 "metadata": {
  "kernelspec": {
   "display_name": "Python 3",
   "language": "python",
   "name": "python3"
  },
  "language_info": {
   "codemirror_mode": {
    "name": "ipython",
    "version": 3
   },
   "file_extension": ".py",
   "mimetype": "text/x-python",
   "name": "python",
   "nbconvert_exporter": "python",
   "pygments_lexer": "ipython3",
   "version": "3.6.3"
  }
 },
 "nbformat": 4,
 "nbformat_minor": 4
}
