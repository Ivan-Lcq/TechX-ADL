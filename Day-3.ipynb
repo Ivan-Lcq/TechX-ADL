{
 "cells": [
  {
   "cell_type": "markdown",
   "metadata": {},
   "source": [
    "### Example in Computer Vision\n",
    "\n",
    "We will build a model on the MNIST dataset to recognize hand-written digits."
   ]
  },
  {
   "cell_type": "code",
   "execution_count": 2,
   "metadata": {},
   "outputs": [
    {
     "name": "stdout",
     "output_type": "stream",
     "text": [
      "1.5.1\n",
      "0.2.1\n"
     ]
    }
   ],
   "source": [
    "import torch\n",
    "import torchvision\n",
    "import torch.nn as nn\n",
    "import torch.nn.functional as F\n",
    "import torch.optim as optim\n",
    "from torchvision import datasets, transforms\n",
    "%matplotlib inline\n",
    "\n",
    "print (torch.__version__)\n",
    "print (torchvision.__version__)"
   ]
  },
  {
   "cell_type": "code",
   "execution_count": 3,
   "metadata": {},
   "outputs": [],
   "source": [
    "# get train and test data, will automatically download\n",
    "transform = transforms.ToTensor()\n",
    "\n",
    "train_data = torchvision.datasets.MNIST(root='./mnist', train=True, \n",
    "                    transform=transform, download=True)\n",
    "test_data = torchvision.datasets.MNIST(root='./mnist', train=False,\n",
    "                    transform=transform)\n"
   ]
  },
  {
   "cell_type": "code",
   "execution_count": 4,
   "metadata": {},
   "outputs": [
    {
     "name": "stdout",
     "output_type": "stream",
     "text": [
      "60000\n",
      "10000\n"
     ]
    }
   ],
   "source": [
    "# dataset statistics\n",
    "print (len(train_data))\n",
    "print (len(test_data))"
   ]
  },
  {
   "cell_type": "markdown",
   "metadata": {},
   "source": [
    "Images in MNIST show hand-writtern digits, the task is to recognize the digit. Let's first see an example:"
   ]
  },
  {
   "cell_type": "code",
   "execution_count": 5,
   "metadata": {},
   "outputs": [
    {
     "name": "stdout",
     "output_type": "stream",
     "text": [
      "Label: tensor(5)\n"
     ]
    },
    {
     "data": {
      "text/plain": [
       "<matplotlib.image.AxesImage at 0x1220fc860>"
      ]
     },
     "execution_count": 5,
     "metadata": {},
     "output_type": "execute_result"
    },
    {
     "data": {
      "image/png": "[encoded data removed]",
      "text/plain": [
       "<Figure size 432x288 with 1 Axes>"
      ]
     },
     "metadata": {},
     "output_type": "display_data"
    }
   ],
   "source": [
    "img, lab = train_data[0]\n",
    "print (\"Label:\", lab)\n",
    "\n",
    "img = img.reshape(28, 28)\n",
    "import matplotlib.pyplot as plt\n",
    "plt.imshow(img, cmap='binary')"
   ]
  },
  {
   "cell_type": "markdown",
   "metadata": {},
   "source": [
    "As we can see in the example above, the image shows '5', and the corresponding label is 5. \n",
    "\n",
    "Next, we write a model class to perform the task. Note that I'm using a very naive model structure, you can feel free to change the model structure and see if you can get better performance!"
   ]
  },
  {
   "cell_type": "code",
   "execution_count": 6,
   "metadata": {},
   "outputs": [],
   "source": [
    "# define our model\n",
    "class Net(nn.Module):\n",
    "    def __init__(self):\n",
    "        super(Net, self).__init__()\n",
    "        # conv2d parameters: in_channels, out_channels, kernel_size, stride\n",
    "        # input shape: (bsz, 1, 28, 28)\n",
    "        self.conv = nn.Conv2d(in_channels=1, \n",
    "                              out_channels=32, \n",
    "                              kernel_size=3, \n",
    "                              stride=1, \n",
    "                              padding=1) \n",
    "        # output shape: (bsz, 32, 28, 28)\n",
    "        self.dropout1 = nn.Dropout2d(0.2)\n",
    "        self.dropout2 = nn.Dropout(0.4)\n",
    "        self.relu = nn.ReLU()\n",
    "        self.pool = nn.MaxPool2d(kernel_size=3, stride=2, padding=1)\n",
    "        # output shape: (bsz, 32, 14, 14)\n",
    "        self.fc1 = nn.Linear(6272, 128)\n",
    "        self.fc2 = nn.Linear(128, 10)\n",
    "    \n",
    "    def forward(self, x):\n",
    "        x = self.conv(x) #(bsz, 1, 28, 28) -> (bsz, 32, 28, 28)\n",
    "        x = self.relu(x) \n",
    "        x = self.pool(x) #-> (bsz, 32, 14, 14)\n",
    "        x = self.dropout1(x)\n",
    "        x = torch.flatten(x, 1) #->(bsz, 6272)\n",
    "        x = self.fc1(x) #->(bsz, 128)\n",
    "        x = self.relu(x)\n",
    "        x = self.dropout2(x)\n",
    "        x = self.fc2(x) #->(bsz, 10) ##raw logits\n",
    "        return x   \n",
    "        "
   ]
  },
  {
   "cell_type": "code",
   "execution_count": 7,
   "metadata": {},
   "outputs": [],
   "source": [
    "# define our training function\n",
    "def train(model, device, train_loader, optimizer, epoch):\n",
    "    model.train()\n",
    "    loss_fn = nn.CrossEntropyLoss()\n",
    "    for batch_idx, (data, target) in enumerate(train_loader):\n",
    "        data, target = data.to(device), target.to(device)\n",
    "        optimizer.zero_grad()\n",
    "        output = model(data)\n",
    "        loss = loss_fn(output, target)\n",
    "        loss.backward()\n",
    "        optimizer.step()\n",
    "        if batch_idx % 200 == 0:\n",
    "            print ('Train Epoch: {}, Batch Index: {}, Loss: {}'.format(\n",
    "                epoch, batch_idx, loss.item()))\n",
    "        "
   ]
  },
  {
   "cell_type": "code",
   "execution_count": 8,
   "metadata": {},
   "outputs": [],
   "source": [
    "# define out testing function\n",
    "def test(model, device, test_loader):\n",
    "    model.eval()\n",
    "    correct = 0\n",
    "    with torch.no_grad():\n",
    "        for data, target in test_loader:\n",
    "            data, target = data.to(device), target.to(device)\n",
    "            output = model(data)\n",
    "            pred = output.argmax(dim=1,) #(bsz,)\n",
    "            correct += pred.eq(target).sum().item()\n",
    "    print (\" Test Accuracy: {}%\".format(\n",
    "            correct/len(test_loader.dataset)*100))\n"
   ]
  },
  {
   "cell_type": "code",
   "execution_count": 9,
   "metadata": {},
   "outputs": [
    {
     "name": "stdout",
     "output_type": "stream",
     "text": [
      "Train Epoch: 1, Batch Index: 0, Loss: 2.323336362838745\n",
      "Train Epoch: 1, Batch Index: 200, Loss: 0.5085862874984741\n",
      "Train Epoch: 1, Batch Index: 400, Loss: 0.05778980627655983\n",
      "Train Epoch: 1, Batch Index: 600, Loss: 0.1252654492855072\n",
      "Train Epoch: 1, Batch Index: 800, Loss: 0.11992247402667999\n",
      " Test Accuracy: 97.38%\n"
     ]
    }
   ],
   "source": [
    "device = torch.device(\"cuda\" if torch.cuda.is_available() else \"cpu\")\n",
    "\n",
    "BSZ = 64\n",
    "LR = 1e-3\n",
    "EPOCH = 1\n",
    "\n",
    "# we need to use DataLoader to pass data to the model\n",
    "# it will yield batches of data\n",
    "train_loader = torch.utils.data.DataLoader(train_data, \n",
    "                                          batch_size=BSZ,\n",
    "                                          shuffle=True)\n",
    "test_loader = torch.utils.data.DataLoader(test_data,\n",
    "                                         batch_size=BSZ)\n",
    "model = Net().to(device)\n",
    "optimizer = optim.Adam(model.parameters(), lr=LR)\n",
    "for epoch in range(1, EPOCH+1):\n",
    "    train(model, device, train_loader, optimizer, epoch)\n",
    "    test(model, device, test_loader)\n",
    "\n",
    "    ## uncomment this line to save the trained model \n",
    "#     torch.save(model.state_dict(), \"mnist_cnn.pt\")"
   ]
  },
  {
   "cell_type": "markdown",
   "metadata": {},
   "source": [
    "To save time, I trained for only one epoch.\n",
    "\n"
   ]
  },
  {
   "cell_type": "code",
   "execution_count": null,
   "metadata": {},
   "outputs": [],
   "source": []
  }
 ],
 "metadata": {
  "kernelspec": {
   "display_name": "Python 3",
   "language": "python",
   "name": "python3"
  },
  "language_info": {
   "codemirror_mode": {
    "name": "ipython",
    "version": 3
   },
   "file_extension": ".py",
   "mimetype": "text/x-python",
   "name": "python",
   "nbconvert_exporter": "python",
   "pygments_lexer": "ipython3",
   "version": "3.6.3"
  }
 },
 "nbformat": 4,
 "nbformat_minor": 2
}
